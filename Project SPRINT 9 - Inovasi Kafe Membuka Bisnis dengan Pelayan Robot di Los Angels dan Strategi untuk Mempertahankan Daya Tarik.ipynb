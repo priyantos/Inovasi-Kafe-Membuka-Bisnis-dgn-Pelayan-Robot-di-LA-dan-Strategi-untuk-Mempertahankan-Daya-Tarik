{
 "cells": [
  {
   "cell_type": "markdown",
   "metadata": {},
   "source": [
    "# Inovasi Kafe: Membuka Bisnis dengan Pelayan Robot di Los Angeles dan Strategi untuk Mempertahankan Daya Tarik"
   ]
  },
  {
   "cell_type": "markdown",
   "metadata": {},
   "source": [
    "**Pendahuluan <a id='intro'></a>**\n",
    "\n",
    "Pertumbuhan pesat teknologi telah membawa perubahan mendalam dalam berbagai sektor, termasuk industri kuliner. Di tengah revolusi inovasi, kehadiran kafe dengan pelayan robot di Los Angeles menandai langkah menarik dalam menghadirkan pengalaman unik bagi pelanggan. Namun, dengan kecepatan evolusi teknologi, tantangan besar terletak pada strategi yang diperlukan untuk mempertahankan daya tarik bisnis ini dalam persaingan yang semakin ketat.\n",
    "\n",
    "Dimasa saat era ini yang terus berkembang, ide bisnis kafe tidak lagi terbatas pada pengalaman tradisional. Teknologi memainkan peran yang semakin penting dalam kehidupan sehari-hari, munculnya gagasan untuk membuka sebuah kafe yang menggabungkan teknologi canggih menjadi sebuah realitas menarik. Disaat ini Kami sebagai penggagas proyek ini, ingin memperkenalkan konsep kafe unik di Los Angeles yang tidak hanya menawarkan pengalaman kuliner yang luar biasa tetapi juga memanfaatkan kehadiran robot sebagai pramusaji.\n",
    "\n",
    "Ide konsep dari kafe ini memberikan tantangan sekaligus kesempatan peluang besar. Meskipun terdapat potensi daya tarik yang signifikan pada awalnya, proyek ini juga memerlukan investasi yang substansial untuk merancang dan mengimplementasikan teknologi robotik yang canggih. Oleh karena itu, kami telah mengambil keputusan untuk mencari dukungan finansial dari para investor yang berminat terhadap inovasi di industri kuliner.\n",
    "\n",
    "Dalam upaya memahami peluang dan tantangan yang mungkin dihadapi proyek ini, sebagai seorang data analis / pakar analisis saya diminta oleh para mitra untuk mempersiapkan sejumlah riset pasar guna sebagai materi untuk prospek kepada investor. Riset ini akan memberikan pemahaman mendalam tentang kondisi pasar di Los Angeles, serta memberikan wawasan tentang bagaimana kita dapat mempertahankan daya tarik unik kafe ini dalam jangka panjang. Dengan adanya data open-source yang relevan, kami berharap dapat merumuskan strategi yang efektif untuk memastikan kesuksesan proyek ini di tengah perubahan dinamis dalam selera konsumen dan kemajuan teknologi.\n",
    "\n",
    "**Tujuan:**\n",
    "\n",
    "Sebagai seorang Data Analyst/Pakar Analisis, peran saya adalah memanfaatkan data open-source terkait jenis-jenis usaha tempat makan di Los Angeles. Analisis ini tidak hanya bertujuan untuk memahami kondisi pasar saat ini tetapi juga untuk merinci kebutuhan konsumen, mengidentifikasi tren yang mungkin memengaruhi keberlanjutan proyek, dan mengevaluasi bagaimana robotik dapat mempertahankan daya tariknya seiring berjalannya waktu.\n",
    "\n",
    "Berikut rincian yang akan kita lewati:\n",
    "\n",
    "**Tahapan yang Dilakukan**\n",
    "\n",
    "**Langkah 1: Insialisasi**\n",
    "\n",
    "- Memanggil data library yang dibutuhkan\n",
    "\n",
    "  - *List library yang digunakan*\n",
    "  \n",
    "     * import pandas as pd\n",
    "     * import matplotlib.pyplot as plt\n",
    "     * import seaborn as sns\n",
    "     * import numpy as np\n",
    "     * import datetime as dt\n",
    "     * from scipy import stats\n",
    "     * from datetime import datetime, timedelta\n",
    "     * from scipy import stats as st\n",
    "     \n",
    "**Langkah 2: Memuat Dataset**\n",
    "\n",
    "- Unduh data terkait berbagai jenis usaha tempat makan di LA. \n",
    "- Pastikan bahwa tipe data untuk setiap kolomnya sudah benar dan tidak ada nilai yang hilang atau duplikat. \n",
    "- Lakukan pra-pemrosesan data jika diperlukan. \n",
    "- File path: `/datasets/rest_data_us.csv`\n",
    "\n",
    "**Langkah 3: Melakukan Tahapan Analisis Data**\n",
    "\n",
    "- Teliti proporsi dari berbagai jenis usaha. Buat grafiknya.\n",
    "- Teliti proporsi dari usaha berbasis waralaba dan nonwaralaba. Buat grafiknya.\n",
    "- Jenis usaha mana yang biasanya merupakan usaha berbasis waralaba?\n",
    "- Mana yang merupakan ciri-ciri dari jenis usaha berbasis waralaba: memiliki banyak tempat dengan jumlah kursi yang sedikit atau memiliki beberapa tempat dengan jumlah kursi yang banyak?\n",
    "- Tentukan jumlah rata-rata kursi untuk setiap jenis usaha. Secara rata-rata, jenis usaha mana yang memiliki jumlah kursi terbanyak? Buat grafiknya.\n",
    "- Pindahkan data nama jalan dari kolom address ke kolom terpisah.\n",
    "- Buat grafik yang menampilkan sepuluh nama jalan teratas berdasarkan jumlah usaha (tempat makan).\n",
    "- Temukan jumlah jalan yang hanya memiliki satu usaha (tempat makan).\n",
    "- Untuk jalan yang dihuni oleh banyak usaha (tempat makan), perhatikan distribusi jumlah kursinya. Tren apa yang bisa kamu amati?\n",
    "\n",
    "**Buat kesimpulan umumnya dan berikan rekomendasi tentang jenis usaha dan jumlah kursinya. Berikan komentar tentang peluang pengembangan usaha berbasis waralaba.**\n",
    "\n",
    "**Langkah 4: Kesimpulan**\n",
    "\n",
    "**Langkah 5: Mempersiapkan presentasi**\n",
    "\n",
    "5.1  File untuk presentasi dapat didownload\n",
    "\n",
    "Menyiapkan presentasi penelitian untuk di-share kepada para investor. Kita bisa menggunakan tool apa saja untuk membuatnya, tetapi harus mengkonversinya ke dalam format PDF agar presentasi lebih mudah untuk dinilai. Sertakan tautan menuju presentasi pada sel markdown dalam format beriku --> Presentasi: https://drive.google.com/file/d/1uAAsHDn-81AS_5-eUA3FwUHB_-gwNAmI/view?usp=sharing"
   ]
  },
  {
   "cell_type": "markdown",
   "metadata": {},
   "source": [
    "## Inisialisasi\n",
    "\n",
    "Mari kita muat library yang kita butuhkan."
   ]
  },
  {
   "cell_type": "code",
   "execution_count": 2,
   "metadata": {},
   "outputs": [],
   "source": [
    "# Muat semua library\n",
    "import pandas as pd\n",
    "import matplotlib.pyplot as plt\n",
    "import seaborn as sns\n",
    "import numpy as np\n",
    "import datetime as dt\n",
    "from scipy import stats\n",
    "from datetime import datetime, timedelta\n",
    "from scipy import stats as st"
   ]
  },
  {
   "cell_type": "markdown",
   "metadata": {},
   "source": [
    "## Memuat Dataset\n",
    "\n",
    "Mari kita masukkan dataset, berikut dataset yang akan kita analisa. \n",
    "Tahap ini bertujuan untuk memastikan bahwa tipe data untuk setiap kolomnya sudah benar dan tidak ada nilai yang hilang atau duplikat. Lakukan pra-pemrosesan data jika diperlukan."
   ]
  },
  {
   "cell_type": "code",
   "execution_count": 5,
   "metadata": {},
   "outputs": [],
   "source": [
    "# Memuat dataset yang akan kita gunakan\n",
    "rest_cafe_data = pd.read_csv('/datasets/rest_data_us.csv')"
   ]
  },
  {
   "cell_type": "markdown",
   "metadata": {},
   "source": [
    "**Pra-pemrosesan Data / Checking Data**\n",
    "\n",
    "- Memastikan bahwa tipe data untuk setiap kolomnya sudah benar dan tidak ada nilai yang hilang atau duplikat."
   ]
  },
  {
   "cell_type": "code",
   "execution_count": 4,
   "metadata": {},
   "outputs": [
    {
     "name": "stdout",
     "output_type": "stream",
     "text": [
      "<class 'pandas.core.frame.DataFrame'>\n",
      "RangeIndex: 9651 entries, 0 to 9650\n",
      "Data columns (total 6 columns):\n",
      " #   Column       Non-Null Count  Dtype \n",
      "---  ------       --------------  ----- \n",
      " 0   id           9651 non-null   int64 \n",
      " 1   object_name  9651 non-null   object\n",
      " 2   address      9651 non-null   object\n",
      " 3   chain        9648 non-null   object\n",
      " 4   object_type  9651 non-null   object\n",
      " 5   number       9651 non-null   int64 \n",
      "dtypes: int64(2), object(4)\n",
      "memory usage: 452.5+ KB\n"
     ]
    }
   ],
   "source": [
    "# Menampilkan informasi hasil dataset rest_data_us.csv\n",
    "rest_cafe_data.info()"
   ]
  },
  {
   "cell_type": "markdown",
   "metadata": {},
   "source": [
    "**Temuan**\n",
    "\n",
    "Terdapat nilai yang hilang pada kolom **`chain`**"
   ]
  },
  {
   "cell_type": "code",
   "execution_count": 18,
   "metadata": {},
   "outputs": [
    {
     "data": {
      "text/html": [
       "<div>\n",
       "<style scoped>\n",
       "    .dataframe tbody tr th:only-of-type {\n",
       "        vertical-align: middle;\n",
       "    }\n",
       "\n",
       "    .dataframe tbody tr th {\n",
       "        vertical-align: top;\n",
       "    }\n",
       "\n",
       "    .dataframe thead th {\n",
       "        text-align: right;\n",
       "    }\n",
       "</style>\n",
       "<table border=\"1\" class=\"dataframe\">\n",
       "  <thead>\n",
       "    <tr style=\"text-align: right;\">\n",
       "      <th></th>\n",
       "      <th>id</th>\n",
       "      <th>object_name</th>\n",
       "      <th>address</th>\n",
       "      <th>chain</th>\n",
       "      <th>object_type</th>\n",
       "      <th>number</th>\n",
       "    </tr>\n",
       "  </thead>\n",
       "  <tbody>\n",
       "    <tr>\n",
       "      <th>0</th>\n",
       "      <td>11786</td>\n",
       "      <td>HABITAT COFFEE SHOP</td>\n",
       "      <td>3708 N EAGLE ROCK BLVD</td>\n",
       "      <td>False</td>\n",
       "      <td>Cafe</td>\n",
       "      <td>26</td>\n",
       "    </tr>\n",
       "    <tr>\n",
       "      <th>1</th>\n",
       "      <td>11787</td>\n",
       "      <td>REILLY'S</td>\n",
       "      <td>100 WORLD WAY # 120</td>\n",
       "      <td>False</td>\n",
       "      <td>Restaurant</td>\n",
       "      <td>9</td>\n",
       "    </tr>\n",
       "    <tr>\n",
       "      <th>2</th>\n",
       "      <td>11788</td>\n",
       "      <td>STREET CHURROS</td>\n",
       "      <td>6801 HOLLYWOOD BLVD # 253</td>\n",
       "      <td>False</td>\n",
       "      <td>Fast Food</td>\n",
       "      <td>20</td>\n",
       "    </tr>\n",
       "    <tr>\n",
       "      <th>3</th>\n",
       "      <td>11789</td>\n",
       "      <td>TRINITI ECHO PARK</td>\n",
       "      <td>1814 W SUNSET BLVD</td>\n",
       "      <td>False</td>\n",
       "      <td>Restaurant</td>\n",
       "      <td>22</td>\n",
       "    </tr>\n",
       "    <tr>\n",
       "      <th>4</th>\n",
       "      <td>11790</td>\n",
       "      <td>POLLEN</td>\n",
       "      <td>2100 ECHO PARK AVE</td>\n",
       "      <td>False</td>\n",
       "      <td>Restaurant</td>\n",
       "      <td>20</td>\n",
       "    </tr>\n",
       "    <tr>\n",
       "      <th>...</th>\n",
       "      <td>...</td>\n",
       "      <td>...</td>\n",
       "      <td>...</td>\n",
       "      <td>...</td>\n",
       "      <td>...</td>\n",
       "      <td>...</td>\n",
       "    </tr>\n",
       "    <tr>\n",
       "      <th>9646</th>\n",
       "      <td>21432</td>\n",
       "      <td>HALL OF JUSTICE</td>\n",
       "      <td>217 W TEMPLE AVE</td>\n",
       "      <td>False</td>\n",
       "      <td>Restaurant</td>\n",
       "      <td>122</td>\n",
       "    </tr>\n",
       "    <tr>\n",
       "      <th>9647</th>\n",
       "      <td>21433</td>\n",
       "      <td>FIN-MELROSE</td>\n",
       "      <td>5750 MELROSE AVE</td>\n",
       "      <td>False</td>\n",
       "      <td>Restaurant</td>\n",
       "      <td>93</td>\n",
       "    </tr>\n",
       "    <tr>\n",
       "      <th>9648</th>\n",
       "      <td>21434</td>\n",
       "      <td>JUICY WINGZ</td>\n",
       "      <td>6741 HOLLYWOOD BLVD</td>\n",
       "      <td>True</td>\n",
       "      <td>Fast Food</td>\n",
       "      <td>15</td>\n",
       "    </tr>\n",
       "    <tr>\n",
       "      <th>9649</th>\n",
       "      <td>21435</td>\n",
       "      <td>MEDIDATE COFFEE</td>\n",
       "      <td>548 S SPRING ST STE 100</td>\n",
       "      <td>False</td>\n",
       "      <td>Cafe</td>\n",
       "      <td>6</td>\n",
       "    </tr>\n",
       "    <tr>\n",
       "      <th>9650</th>\n",
       "      <td>21436</td>\n",
       "      <td>CAFE SPROUTS</td>\n",
       "      <td>1300 S SAN PEDRO ST STE 111</td>\n",
       "      <td>True</td>\n",
       "      <td>Restaurant</td>\n",
       "      <td>19</td>\n",
       "    </tr>\n",
       "  </tbody>\n",
       "</table>\n",
       "<p>9651 rows × 6 columns</p>\n",
       "</div>"
      ],
      "text/plain": [
       "         id          object_name                      address  chain  \\\n",
       "0     11786  HABITAT COFFEE SHOP       3708 N EAGLE ROCK BLVD  False   \n",
       "1     11787             REILLY'S          100 WORLD WAY # 120  False   \n",
       "2     11788       STREET CHURROS    6801 HOLLYWOOD BLVD # 253  False   \n",
       "3     11789    TRINITI ECHO PARK           1814 W SUNSET BLVD  False   \n",
       "4     11790               POLLEN           2100 ECHO PARK AVE  False   \n",
       "...     ...                  ...                          ...    ...   \n",
       "9646  21432      HALL OF JUSTICE             217 W TEMPLE AVE  False   \n",
       "9647  21433          FIN-MELROSE             5750 MELROSE AVE  False   \n",
       "9648  21434          JUICY WINGZ          6741 HOLLYWOOD BLVD   True   \n",
       "9649  21435      MEDIDATE COFFEE      548 S SPRING ST STE 100  False   \n",
       "9650  21436         CAFE SPROUTS  1300 S SAN PEDRO ST STE 111   True   \n",
       "\n",
       "     object_type  number  \n",
       "0           Cafe      26  \n",
       "1     Restaurant       9  \n",
       "2      Fast Food      20  \n",
       "3     Restaurant      22  \n",
       "4     Restaurant      20  \n",
       "...          ...     ...  \n",
       "9646  Restaurant     122  \n",
       "9647  Restaurant      93  \n",
       "9648   Fast Food      15  \n",
       "9649        Cafe       6  \n",
       "9650  Restaurant      19  \n",
       "\n",
       "[9651 rows x 6 columns]"
      ]
     },
     "execution_count": 18,
     "metadata": {},
     "output_type": "execute_result"
    }
   ],
   "source": [
    "rest_cafe_data"
   ]
  },
  {
   "cell_type": "code",
   "execution_count": 12,
   "metadata": {},
   "outputs": [
    {
     "data": {
      "text/plain": [
       "0       False\n",
       "1       False\n",
       "2       False\n",
       "3       False\n",
       "4       False\n",
       "        ...  \n",
       "9646    False\n",
       "9647    False\n",
       "9648    False\n",
       "9649    False\n",
       "9650    False\n",
       "Name: chain, Length: 9651, dtype: bool"
      ]
     },
     "execution_count": 12,
     "metadata": {},
     "output_type": "execute_result"
    }
   ],
   "source": [
    "# Melihat nilai-nilai yang hilang pada kolom 'chain'\n",
    "chain_missing_data = rest_cafe_data['chain'].isnull()\n",
    "chain_missing_data"
   ]
  },
  {
   "cell_type": "code",
   "execution_count": 15,
   "metadata": {},
   "outputs": [
    {
     "data": {
      "text/html": [
       "<div>\n",
       "<style scoped>\n",
       "    .dataframe tbody tr th:only-of-type {\n",
       "        vertical-align: middle;\n",
       "    }\n",
       "\n",
       "    .dataframe tbody tr th {\n",
       "        vertical-align: top;\n",
       "    }\n",
       "\n",
       "    .dataframe thead th {\n",
       "        text-align: right;\n",
       "    }\n",
       "</style>\n",
       "<table border=\"1\" class=\"dataframe\">\n",
       "  <thead>\n",
       "    <tr style=\"text-align: right;\">\n",
       "      <th></th>\n",
       "      <th>id</th>\n",
       "      <th>object_name</th>\n",
       "      <th>address</th>\n",
       "      <th>chain</th>\n",
       "      <th>object_type</th>\n",
       "      <th>number</th>\n",
       "    </tr>\n",
       "  </thead>\n",
       "  <tbody>\n",
       "    <tr>\n",
       "      <th>7408</th>\n",
       "      <td>19194</td>\n",
       "      <td>TAQUERIA LOS 3 CARNALES</td>\n",
       "      <td>5000 E WHITTIER BLVD</td>\n",
       "      <td>NaN</td>\n",
       "      <td>Restaurant</td>\n",
       "      <td>14</td>\n",
       "    </tr>\n",
       "    <tr>\n",
       "      <th>7523</th>\n",
       "      <td>19309</td>\n",
       "      <td>JAMMIN JIMMY'S PIZZA</td>\n",
       "      <td>1641 FIRESTONE BLVD</td>\n",
       "      <td>NaN</td>\n",
       "      <td>Pizza</td>\n",
       "      <td>1</td>\n",
       "    </tr>\n",
       "    <tr>\n",
       "      <th>8648</th>\n",
       "      <td>20434</td>\n",
       "      <td>THE LEXINGTON THEATER</td>\n",
       "      <td>129 E 3RD ST</td>\n",
       "      <td>NaN</td>\n",
       "      <td>Restaurant</td>\n",
       "      <td>35</td>\n",
       "    </tr>\n",
       "  </tbody>\n",
       "</table>\n",
       "</div>"
      ],
      "text/plain": [
       "         id              object_name               address chain object_type  \\\n",
       "7408  19194  TAQUERIA LOS 3 CARNALES  5000 E WHITTIER BLVD   NaN  Restaurant   \n",
       "7523  19309     JAMMIN JIMMY'S PIZZA   1641 FIRESTONE BLVD   NaN       Pizza   \n",
       "8648  20434    THE LEXINGTON THEATER          129 E 3RD ST   NaN  Restaurant   \n",
       "\n",
       "      number  \n",
       "7408      14  \n",
       "7523       1  \n",
       "8648      35  "
      ]
     },
     "execution_count": 15,
     "metadata": {},
     "output_type": "execute_result"
    }
   ],
   "source": [
    "# Melihat nilai-nilai yang hilang pada kolom 'chain'\n",
    "missing_values = rest_cafe_data['chain'].isnull()\n",
    "\n",
    "# Menampilkan baris yang memiliki nilai hilang pada kolom 'chain'\n",
    "chain_missing_data = rest_cafe_data[missing_values]\n",
    "\n",
    "# Menampilkan hasil\n",
    "chain_missing_data"
   ]
  },
  {
   "cell_type": "code",
   "execution_count": 14,
   "metadata": {},
   "outputs": [
    {
     "data": {
      "text/html": [
       "<div>\n",
       "<style scoped>\n",
       "    .dataframe tbody tr th:only-of-type {\n",
       "        vertical-align: middle;\n",
       "    }\n",
       "\n",
       "    .dataframe tbody tr th {\n",
       "        vertical-align: top;\n",
       "    }\n",
       "\n",
       "    .dataframe thead th {\n",
       "        text-align: right;\n",
       "    }\n",
       "</style>\n",
       "<table border=\"1\" class=\"dataframe\">\n",
       "  <thead>\n",
       "    <tr style=\"text-align: right;\">\n",
       "      <th></th>\n",
       "      <th>id</th>\n",
       "      <th>object_name</th>\n",
       "      <th>address</th>\n",
       "      <th>chain</th>\n",
       "      <th>object_type</th>\n",
       "      <th>number</th>\n",
       "    </tr>\n",
       "  </thead>\n",
       "  <tbody>\n",
       "    <tr>\n",
       "      <th>0</th>\n",
       "      <td>11786</td>\n",
       "      <td>HABITAT COFFEE SHOP</td>\n",
       "      <td>3708 N EAGLE ROCK BLVD</td>\n",
       "      <td>False</td>\n",
       "      <td>Cafe</td>\n",
       "      <td>26</td>\n",
       "    </tr>\n",
       "    <tr>\n",
       "      <th>1</th>\n",
       "      <td>11787</td>\n",
       "      <td>REILLY'S</td>\n",
       "      <td>100 WORLD WAY # 120</td>\n",
       "      <td>False</td>\n",
       "      <td>Restaurant</td>\n",
       "      <td>9</td>\n",
       "    </tr>\n",
       "    <tr>\n",
       "      <th>2</th>\n",
       "      <td>11788</td>\n",
       "      <td>STREET CHURROS</td>\n",
       "      <td>6801 HOLLYWOOD BLVD # 253</td>\n",
       "      <td>False</td>\n",
       "      <td>Fast Food</td>\n",
       "      <td>20</td>\n",
       "    </tr>\n",
       "    <tr>\n",
       "      <th>3</th>\n",
       "      <td>11789</td>\n",
       "      <td>TRINITI ECHO PARK</td>\n",
       "      <td>1814 W SUNSET BLVD</td>\n",
       "      <td>False</td>\n",
       "      <td>Restaurant</td>\n",
       "      <td>22</td>\n",
       "    </tr>\n",
       "    <tr>\n",
       "      <th>4</th>\n",
       "      <td>11790</td>\n",
       "      <td>POLLEN</td>\n",
       "      <td>2100 ECHO PARK AVE</td>\n",
       "      <td>False</td>\n",
       "      <td>Restaurant</td>\n",
       "      <td>20</td>\n",
       "    </tr>\n",
       "    <tr>\n",
       "      <th>...</th>\n",
       "      <td>...</td>\n",
       "      <td>...</td>\n",
       "      <td>...</td>\n",
       "      <td>...</td>\n",
       "      <td>...</td>\n",
       "      <td>...</td>\n",
       "    </tr>\n",
       "    <tr>\n",
       "      <th>9646</th>\n",
       "      <td>21432</td>\n",
       "      <td>HALL OF JUSTICE</td>\n",
       "      <td>217 W TEMPLE AVE</td>\n",
       "      <td>False</td>\n",
       "      <td>Restaurant</td>\n",
       "      <td>122</td>\n",
       "    </tr>\n",
       "    <tr>\n",
       "      <th>9647</th>\n",
       "      <td>21433</td>\n",
       "      <td>FIN-MELROSE</td>\n",
       "      <td>5750 MELROSE AVE</td>\n",
       "      <td>False</td>\n",
       "      <td>Restaurant</td>\n",
       "      <td>93</td>\n",
       "    </tr>\n",
       "    <tr>\n",
       "      <th>9648</th>\n",
       "      <td>21434</td>\n",
       "      <td>JUICY WINGZ</td>\n",
       "      <td>6741 HOLLYWOOD BLVD</td>\n",
       "      <td>True</td>\n",
       "      <td>Fast Food</td>\n",
       "      <td>15</td>\n",
       "    </tr>\n",
       "    <tr>\n",
       "      <th>9649</th>\n",
       "      <td>21435</td>\n",
       "      <td>MEDIDATE COFFEE</td>\n",
       "      <td>548 S SPRING ST STE 100</td>\n",
       "      <td>False</td>\n",
       "      <td>Cafe</td>\n",
       "      <td>6</td>\n",
       "    </tr>\n",
       "    <tr>\n",
       "      <th>9650</th>\n",
       "      <td>21436</td>\n",
       "      <td>CAFE SPROUTS</td>\n",
       "      <td>1300 S SAN PEDRO ST STE 111</td>\n",
       "      <td>True</td>\n",
       "      <td>Restaurant</td>\n",
       "      <td>19</td>\n",
       "    </tr>\n",
       "  </tbody>\n",
       "</table>\n",
       "<p>9651 rows × 6 columns</p>\n",
       "</div>"
      ],
      "text/plain": [
       "         id          object_name                      address  chain  \\\n",
       "0     11786  HABITAT COFFEE SHOP       3708 N EAGLE ROCK BLVD  False   \n",
       "1     11787             REILLY'S          100 WORLD WAY # 120  False   \n",
       "2     11788       STREET CHURROS    6801 HOLLYWOOD BLVD # 253  False   \n",
       "3     11789    TRINITI ECHO PARK           1814 W SUNSET BLVD  False   \n",
       "4     11790               POLLEN           2100 ECHO PARK AVE  False   \n",
       "...     ...                  ...                          ...    ...   \n",
       "9646  21432      HALL OF JUSTICE             217 W TEMPLE AVE  False   \n",
       "9647  21433          FIN-MELROSE             5750 MELROSE AVE  False   \n",
       "9648  21434          JUICY WINGZ          6741 HOLLYWOOD BLVD   True   \n",
       "9649  21435      MEDIDATE COFFEE      548 S SPRING ST STE 100  False   \n",
       "9650  21436         CAFE SPROUTS  1300 S SAN PEDRO ST STE 111   True   \n",
       "\n",
       "     object_type  number  \n",
       "0           Cafe      26  \n",
       "1     Restaurant       9  \n",
       "2      Fast Food      20  \n",
       "3     Restaurant      22  \n",
       "4     Restaurant      20  \n",
       "...          ...     ...  \n",
       "9646  Restaurant     122  \n",
       "9647  Restaurant      93  \n",
       "9648   Fast Food      15  \n",
       "9649        Cafe       6  \n",
       "9650  Restaurant      19  \n",
       "\n",
       "[9651 rows x 6 columns]"
      ]
     },
     "execution_count": 14,
     "metadata": {},
     "output_type": "execute_result"
    }
   ],
   "source": [
    "# Menampilkan isi dataset rest_data_us.csv\n",
    "rest_cafe_data"
   ]
  },
  {
   "cell_type": "markdown",
   "metadata": {},
   "source": [
    "**Temuan**\n",
    "\n",
    " Kolom **`chain`** merupakan type data value boolean. Sebelumnya kita menemukan informasi bahwa kolom **`chain`** merupakan tipe data object atau string."
   ]
  },
  {
   "cell_type": "code",
   "execution_count": 16,
   "metadata": {},
   "outputs": [],
   "source": [
    "# Merubah type data kolom 'chain' menjadi bool\n",
    "rest_cafe_data['chain'] = rest_cafe_data['chain'].fillna(False).astype(bool)"
   ]
  },
  {
   "cell_type": "code",
   "execution_count": 17,
   "metadata": {},
   "outputs": [
    {
     "name": "stdout",
     "output_type": "stream",
     "text": [
      "<class 'pandas.core.frame.DataFrame'>\n",
      "RangeIndex: 9651 entries, 0 to 9650\n",
      "Data columns (total 6 columns):\n",
      " #   Column       Non-Null Count  Dtype \n",
      "---  ------       --------------  ----- \n",
      " 0   id           9651 non-null   int64 \n",
      " 1   object_name  9651 non-null   object\n",
      " 2   address      9651 non-null   object\n",
      " 3   chain        9651 non-null   bool  \n",
      " 4   object_type  9651 non-null   object\n",
      " 5   number       9651 non-null   int64 \n",
      "dtypes: bool(1), int64(2), object(3)\n",
      "memory usage: 386.5+ KB\n"
     ]
    }
   ],
   "source": [
    "# Menampilkan kembali informasi hasil dataset rest_data_us.csv\n",
    "rest_cafe_data.info()"
   ]
  },
  {
   "cell_type": "markdown",
   "metadata": {},
   "source": [
    "**Temuan**\n",
    "\n",
    "Tipe data sudah terlihat sesuai dan tidak ada nilai yang kosong."
   ]
  },
  {
   "cell_type": "markdown",
   "metadata": {},
   "source": [
    "**Kesimpulan Sementara**\n",
    "\n",
    "Hanya terdapat sedikit nilai yang hilang. Nilai hilang berada di kolom **`chain`** serta perubahan tipe data pada kolm **`chain`** menjadi boolean."
   ]
  },
  {
   "cell_type": "markdown",
   "metadata": {},
   "source": [
    "## Melakukan Tahapan Analisis Data\n",
    "\n",
    "Mari kita analisis beberapa bagian yang akan dikerjakan."
   ]
  },
  {
   "cell_type": "markdown",
   "metadata": {},
   "source": [
    "**Teliti Proporsi dari Berbagai Jenis Usaha**\n",
    "\n",
    "- Menampilkan grafik dari proporsi berbagai jenis usaha"
   ]
  },
  {
   "cell_type": "code",
   "execution_count": 20,
   "metadata": {},
   "outputs": [
    {
     "data": {
      "image/png": "[encoded data removed]",
      "text/plain": [
       "<Figure size 576x432 with 1 Axes>"
      ]
     },
     "metadata": {},
     "output_type": "display_data"
    }
   ],
   "source": [
    "# Menghitung jumlah bisnis berdasarkan jenisnya\n",
    "business_counts = rest_cafe_data['object_type'].value_counts()\n",
    "\n",
    "# Membuat grafik pie chart dari proporsi berbagai jenis usaha\n",
    "plt.figure(figsize=(8, 6))\n",
    "business_counts.plot(kind='pie', autopct='%1.1f%%', startangle=140)\n",
    "plt.title('Proporsi Berbagai Jenis Usaha')\n",
    "plt.axis('equal')  # Membuat pie chart menjadi lingkaran\n",
    "plt.legend()\n",
    "plt.show()"
   ]
  },
  {
   "cell_type": "markdown",
   "metadata": {},
   "source": [
    "**Kesimpulan Sementara**\n",
    "\n",
    "Ditemukan bahwa proporsi di kolom **`object_type`**, value **`Restaurant`** memiliki nilai yang paling tinggi yaitu **75,2 %**."
   ]
  },
  {
   "cell_type": "markdown",
   "metadata": {},
   "source": [
    "**Teliti Proporsi dari Usaha Berbasis Waralaba dan Nonwaralaba**\n",
    "\n",
    "- Membuat grafik proporsi dari usaha berbasis waralaba dan nonwaralaba"
   ]
  },
  {
   "cell_type": "code",
   "execution_count": 22,
   "metadata": {},
   "outputs": [
    {
     "data": {
      "image/png": "[encoded data removed]",
      "text/plain": [
       "<Figure size 432x432 with 1 Axes>"
      ]
     },
     "metadata": {},
     "output_type": "display_data"
    }
   ],
   "source": [
    "# Menghitung proporsi dari usaha berbasis waralaba dan nonwaralaba\n",
    "proporsi_chain = rest_cafe_data['chain'].value_counts(normalize=True)\n",
    "\n",
    "# Membuat grafik proporsi\n",
    "plt.figure(figsize=(6, 6))\n",
    "proporsi_chain.plot(kind='pie', autopct='%1.1f%%', colors=['dodgerblue', 'lime'])\n",
    "plt.title('Proporsi Usaha Berbasis Waralaba dan Nonwaralaba di Los Angeles')\n",
    "plt.ylabel('')\n",
    "plt.show()"
   ]
  },
  {
   "cell_type": "markdown",
   "metadata": {},
   "source": [
    "**Kesimpulan Sementara**\n",
    "\n",
    "Kolom **`chain`** merupakan benar atau tidaknya proporsi usaha berbasis warlaba dan non waralaba. Terindikasi bahwa **`61.9%`** adalah Waralaba dan **`38.1%`** merupakan Nonwaralaba."
   ]
  },
  {
   "cell_type": "markdown",
   "metadata": {},
   "source": [
    "**Jenis Usaha Mana yang Biasanya Merupakan Usaha Berbasis Waralaba?**\n",
    "\n",
    "- Menghitung dan Mencari jenis usaha yang berbasis waralaba"
   ]
  },
  {
   "cell_type": "code",
   "execution_count": 23,
   "metadata": {},
   "outputs": [
    {
     "name": "stdout",
     "output_type": "stream",
     "text": [
      "Jenis usaha yang merupakan usaha berbasis waralaba:\n",
      "['Bakery', 'Bar', 'Cafe', 'Fast Food', 'Pizza', 'Restaurant']\n"
     ]
    }
   ],
   "source": [
    "# Menghitung jumlah usaha berbasis waralaba untuk setiap jenis usaha\n",
    "count_waralaba_byType = rest_cafe_data.groupby('object_type')['chain'].sum()\n",
    "\n",
    "# Menampilkan jenis usaha berbasis waralaba\n",
    "kind_of_waralaba = count_waralaba_byType[count_waralaba_byType > 0].index.tolist()\n",
    "\n",
    "print(\"Jenis usaha yang merupakan usaha berbasis waralaba:\")\n",
    "print(kind_of_waralaba)"
   ]
  },
  {
   "cell_type": "markdown",
   "metadata": {},
   "source": [
    "**Kesimpulan Sementara**\n",
    "\n",
    "- Dari hasil agregasi kolom **`object_type`** terhadap **`chain`**, value Restaurant memiliki jumlah usaha yang berbasis waralaba tertinggi."
   ]
  },
  {
   "cell_type": "markdown",
   "metadata": {},
   "source": [
    "**Mana yang Merupakan Ciri-Ciri dari Jenis Usaha Berbasis Waralaba?**\n",
    "\n",
    "- Manakah yang memiliki banyak tempat dengan jumlah kursi yang sedikit atau memiliki beberapa tempat dengan jumlah kursi yang banyak?"
   ]
  },
  {
   "cell_type": "code",
   "execution_count": 24,
   "metadata": {},
   "outputs": [
    {
     "data": {
      "text/html": [
       "<div>\n",
       "<style scoped>\n",
       "    .dataframe tbody tr th:only-of-type {\n",
       "        vertical-align: middle;\n",
       "    }\n",
       "\n",
       "    .dataframe tbody tr th {\n",
       "        vertical-align: top;\n",
       "    }\n",
       "\n",
       "    .dataframe thead th {\n",
       "        text-align: right;\n",
       "    }\n",
       "</style>\n",
       "<table border=\"1\" class=\"dataframe\">\n",
       "  <thead>\n",
       "    <tr style=\"text-align: right;\">\n",
       "      <th></th>\n",
       "      <th>object_type</th>\n",
       "      <th>total_places</th>\n",
       "      <th>total_seats</th>\n",
       "    </tr>\n",
       "  </thead>\n",
       "  <tbody>\n",
       "    <tr>\n",
       "      <th>0</th>\n",
       "      <td>Bakery</td>\n",
       "      <td>6162</td>\n",
       "      <td>283</td>\n",
       "    </tr>\n",
       "    <tr>\n",
       "      <th>1</th>\n",
       "      <td>Bar</td>\n",
       "      <td>13072</td>\n",
       "      <td>292</td>\n",
       "    </tr>\n",
       "    <tr>\n",
       "      <th>2</th>\n",
       "      <td>Cafe</td>\n",
       "      <td>10875</td>\n",
       "      <td>435</td>\n",
       "    </tr>\n",
       "    <tr>\n",
       "      <th>3</th>\n",
       "      <td>Fast Food</td>\n",
       "      <td>33939</td>\n",
       "      <td>1066</td>\n",
       "    </tr>\n",
       "    <tr>\n",
       "      <th>4</th>\n",
       "      <td>Pizza</td>\n",
       "      <td>9107</td>\n",
       "      <td>320</td>\n",
       "    </tr>\n",
       "    <tr>\n",
       "      <th>5</th>\n",
       "      <td>Restaurant</td>\n",
       "      <td>348547</td>\n",
       "      <td>7255</td>\n",
       "    </tr>\n",
       "  </tbody>\n",
       "</table>\n",
       "</div>"
      ],
      "text/plain": [
       "  object_type  total_places  total_seats\n",
       "0      Bakery          6162          283\n",
       "1         Bar         13072          292\n",
       "2        Cafe         10875          435\n",
       "3   Fast Food         33939         1066\n",
       "4       Pizza          9107          320\n",
       "5  Restaurant        348547         7255"
      ]
     },
     "execution_count": 24,
     "metadata": {},
     "output_type": "execute_result"
    }
   ],
   "source": [
    "# Menghitung jumlah tempat dan jumlah kursi untuk setiap jenis usaha\n",
    "number_of_seats_per_type_of_business = rest_cafe_data.groupby('object_type').agg({'number': 'sum', 'id': 'count'}).reset_index()\n",
    "number_of_seats_per_type_of_business.columns = ['object_type', 'total_places', 'total_seats']\n",
    "\n",
    "# Menampilkan hasil\n",
    "number_of_seats_per_type_of_business"
   ]
  },
  {
   "cell_type": "code",
   "execution_count": 30,
   "metadata": {},
   "outputs": [
    {
     "data": {
      "image/png": "[encoded data removed]",
      "text/plain": [
       "<Figure size 1008x432 with 2 Axes>"
      ]
     },
     "metadata": {},
     "output_type": "display_data"
    }
   ],
   "source": [
    "# Membuat grafik batang\n",
    "plt.figure(figsize=(14, 6))\n",
    "\n",
    "# Menampilkan Grafik jumlah tempat\n",
    "plt.subplot(1, 2, 1)\n",
    "sns.set(style=\"darkgrid\")\n",
    "sns.barplot(x='object_type', y='total_places', data=number_of_seats_per_type_of_business, palette='coolwarm', )\n",
    "plt.title('Total Tempat untuk Setiap Jenis Usaha')\n",
    "plt.xlabel('Jenis Usaha')\n",
    "plt.ylabel('Total Tempat')\n",
    "plt.xticks(rotation=45, ha='right')\n",
    "\n",
    "# Menampilkan Grafik jumlah kursi\n",
    "plt.subplot(1, 2, 2)\n",
    "sns.set(style=\"darkgrid\")\n",
    "sns.barplot(x='object_type', y='total_seats', data=number_of_seats_per_type_of_business, palette='cubehelix')\n",
    "plt.title('Total Kursi untuk Setiap Jenis Usaha')\n",
    "plt.xlabel('Jenis Usaha')\n",
    "plt.ylabel('Total Kursi')\n",
    "plt.xticks(rotation=45, ha='right')\n",
    "\n",
    "# layout\n",
    "plt.tight_layout()"
   ]
  },
  {
   "cell_type": "markdown",
   "metadata": {},
   "source": [
    "**Kesimpulan Sementara**\n",
    "\n",
    "- Total tempat tertinggi yaitu Restaurant, sementara terendah yaitu Bakery. Untuk total kursi tertinggi yaitu Restaurant, sementara terendah yaitu Bar."
   ]
  },
  {
   "cell_type": "markdown",
   "metadata": {},
   "source": [
    "**Menentukan Jumlah Rata-Rata Kursi untuk Setiap Jenis Usaha**\n",
    "\n",
    "- Membuat Grafik Secara rata-rata, jenis usaha mana yang memiliki jumlah kursi terbanyak."
   ]
  },
  {
   "cell_type": "code",
   "execution_count": 31,
   "metadata": {},
   "outputs": [
    {
     "data": {
      "text/html": [
       "<div>\n",
       "<style scoped>\n",
       "    .dataframe tbody tr th:only-of-type {\n",
       "        vertical-align: middle;\n",
       "    }\n",
       "\n",
       "    .dataframe tbody tr th {\n",
       "        vertical-align: top;\n",
       "    }\n",
       "\n",
       "    .dataframe thead th {\n",
       "        text-align: right;\n",
       "    }\n",
       "</style>\n",
       "<table border=\"1\" class=\"dataframe\">\n",
       "  <thead>\n",
       "    <tr style=\"text-align: right;\">\n",
       "      <th></th>\n",
       "      <th>object_type</th>\n",
       "      <th>number</th>\n",
       "    </tr>\n",
       "  </thead>\n",
       "  <tbody>\n",
       "    <tr>\n",
       "      <th>0</th>\n",
       "      <td>Bakery</td>\n",
       "      <td>21.773852</td>\n",
       "    </tr>\n",
       "    <tr>\n",
       "      <th>1</th>\n",
       "      <td>Bar</td>\n",
       "      <td>44.767123</td>\n",
       "    </tr>\n",
       "    <tr>\n",
       "      <th>2</th>\n",
       "      <td>Cafe</td>\n",
       "      <td>25.000000</td>\n",
       "    </tr>\n",
       "    <tr>\n",
       "      <th>3</th>\n",
       "      <td>Fast Food</td>\n",
       "      <td>31.837711</td>\n",
       "    </tr>\n",
       "    <tr>\n",
       "      <th>4</th>\n",
       "      <td>Pizza</td>\n",
       "      <td>28.459375</td>\n",
       "    </tr>\n",
       "    <tr>\n",
       "      <th>5</th>\n",
       "      <td>Restaurant</td>\n",
       "      <td>48.042316</td>\n",
       "    </tr>\n",
       "  </tbody>\n",
       "</table>\n",
       "</div>"
      ],
      "text/plain": [
       "  object_type     number\n",
       "0      Bakery  21.773852\n",
       "1         Bar  44.767123\n",
       "2        Cafe  25.000000\n",
       "3   Fast Food  31.837711\n",
       "4       Pizza  28.459375\n",
       "5  Restaurant  48.042316"
      ]
     },
     "execution_count": 31,
     "metadata": {},
     "output_type": "execute_result"
    }
   ],
   "source": [
    "# Menghitung rata-rata jumlah tempat dan kursi untuk setiap jenis usaha\n",
    "average_per_type_of_business = rest_cafe_data.groupby('object_type')[['number']].mean().reset_index()\n",
    "\n",
    "# Menampilkan hasil\n",
    "average_per_type_of_business"
   ]
  },
  {
   "cell_type": "markdown",
   "metadata": {},
   "source": [
    "**<span style=\"color:blue\">Untuk mengevaluasi ciri-ciri dari jenis usaha berbasis waralaba, kita dapat menghitung rata-rata jumlah tempat dan rata-rata jumlah kursi untuk setiap jenis usaha. Jika rata-rata jumlah tempat tinggi dan rata-rata jumlah kursi rendah, itu mungkin menunjukkan bahwa jenis usaha tersebut cenderung memiliki banyak tempat dengan jumlah kursi yang sedikit.</span>**"
   ]
  },
  {
   "cell_type": "code",
   "execution_count": 32,
   "metadata": {},
   "outputs": [
    {
     "data": {
      "image/png": "[encoded data removed]",
      "text/plain": [
       "<Figure size 864x432 with 1 Axes>"
      ]
     },
     "metadata": {},
     "output_type": "display_data"
    }
   ],
   "source": [
    "# Membuat grafik batang rata-rata jumlah tempat untuk setiap jenis usaha\n",
    "plt.figure(figsize=(12, 6))\n",
    "sns.set(style=\"darkgrid\")\n",
    "sns.barplot(x='object_type', y='number', data=average_per_type_of_business, palette='cubehelix')\n",
    "plt.title('Rata-Rata Jumlah Tempat untuk Setiap Jenis Usaha di Los Angeles')\n",
    "plt.xlabel('Jenis Usaha')\n",
    "plt.ylabel('Rata-Rata Jumlah Tempat')\n",
    "plt.xticks(rotation=45, ha='right')\n",
    "plt.show()"
   ]
  },
  {
   "cell_type": "markdown",
   "metadata": {},
   "source": [
    "**Kesimpulan Sementara**\n",
    "\n",
    "- Bisa dipastikan bahwa Bar yang memiliki rata-rata tinggi merupakan jumlah kursi yang dimiliki sangat sedikit untuk setiap tempat. Restaurant memiliki jumlah yang banyak dan selalu berbanding lurus dengan total tempat dan total kursi."
   ]
  },
  {
   "cell_type": "markdown",
   "metadata": {},
   "source": [
    "**Pindahkan Data Nama Jalan dari Kolom address ke Kolom Terpisah**\n",
    "\n",
    "- Mari kita pindahkan kolom address ke kolom terpisah untuk kepentingan analisis lebih lanjut"
   ]
  },
  {
   "cell_type": "code",
   "execution_count": 33,
   "metadata": {},
   "outputs": [
    {
     "data": {
      "text/html": [
       "<div>\n",
       "<style scoped>\n",
       "    .dataframe tbody tr th:only-of-type {\n",
       "        vertical-align: middle;\n",
       "    }\n",
       "\n",
       "    .dataframe tbody tr th {\n",
       "        vertical-align: top;\n",
       "    }\n",
       "\n",
       "    .dataframe thead th {\n",
       "        text-align: right;\n",
       "    }\n",
       "</style>\n",
       "<table border=\"1\" class=\"dataframe\">\n",
       "  <thead>\n",
       "    <tr style=\"text-align: right;\">\n",
       "      <th></th>\n",
       "      <th>address</th>\n",
       "      <th>street_name</th>\n",
       "    </tr>\n",
       "  </thead>\n",
       "  <tbody>\n",
       "    <tr>\n",
       "      <th>0</th>\n",
       "      <td>3708 N EAGLE ROCK BLVD</td>\n",
       "      <td>3708 N EAGLE ROCK BLVD</td>\n",
       "    </tr>\n",
       "    <tr>\n",
       "      <th>1</th>\n",
       "      <td>100 WORLD WAY # 120</td>\n",
       "      <td>100 WORLD WAY # 120</td>\n",
       "    </tr>\n",
       "    <tr>\n",
       "      <th>2</th>\n",
       "      <td>6801 HOLLYWOOD BLVD # 253</td>\n",
       "      <td>6801 HOLLYWOOD BLVD # 253</td>\n",
       "    </tr>\n",
       "    <tr>\n",
       "      <th>3</th>\n",
       "      <td>1814 W SUNSET BLVD</td>\n",
       "      <td>1814 W SUNSET BLVD</td>\n",
       "    </tr>\n",
       "    <tr>\n",
       "      <th>4</th>\n",
       "      <td>2100 ECHO PARK AVE</td>\n",
       "      <td>2100 ECHO PARK AVE</td>\n",
       "    </tr>\n",
       "    <tr>\n",
       "      <th>...</th>\n",
       "      <td>...</td>\n",
       "      <td>...</td>\n",
       "    </tr>\n",
       "    <tr>\n",
       "      <th>9646</th>\n",
       "      <td>217 W TEMPLE AVE</td>\n",
       "      <td>217 W TEMPLE AVE</td>\n",
       "    </tr>\n",
       "    <tr>\n",
       "      <th>9647</th>\n",
       "      <td>5750 MELROSE AVE</td>\n",
       "      <td>5750 MELROSE AVE</td>\n",
       "    </tr>\n",
       "    <tr>\n",
       "      <th>9648</th>\n",
       "      <td>6741 HOLLYWOOD BLVD</td>\n",
       "      <td>6741 HOLLYWOOD BLVD</td>\n",
       "    </tr>\n",
       "    <tr>\n",
       "      <th>9649</th>\n",
       "      <td>548 S SPRING ST STE 100</td>\n",
       "      <td>548 S SPRING ST STE 100</td>\n",
       "    </tr>\n",
       "    <tr>\n",
       "      <th>9650</th>\n",
       "      <td>1300 S SAN PEDRO ST STE 111</td>\n",
       "      <td>1300 S SAN PEDRO ST STE 111</td>\n",
       "    </tr>\n",
       "  </tbody>\n",
       "</table>\n",
       "<p>9651 rows × 2 columns</p>\n",
       "</div>"
      ],
      "text/plain": [
       "                          address                  street_name\n",
       "0          3708 N EAGLE ROCK BLVD       3708 N EAGLE ROCK BLVD\n",
       "1             100 WORLD WAY # 120          100 WORLD WAY # 120\n",
       "2       6801 HOLLYWOOD BLVD # 253    6801 HOLLYWOOD BLVD # 253\n",
       "3              1814 W SUNSET BLVD           1814 W SUNSET BLVD\n",
       "4              2100 ECHO PARK AVE           2100 ECHO PARK AVE\n",
       "...                           ...                          ...\n",
       "9646             217 W TEMPLE AVE             217 W TEMPLE AVE\n",
       "9647             5750 MELROSE AVE             5750 MELROSE AVE\n",
       "9648          6741 HOLLYWOOD BLVD          6741 HOLLYWOOD BLVD\n",
       "9649      548 S SPRING ST STE 100      548 S SPRING ST STE 100\n",
       "9650  1300 S SAN PEDRO ST STE 111  1300 S SAN PEDRO ST STE 111\n",
       "\n",
       "[9651 rows x 2 columns]"
      ]
     },
     "execution_count": 33,
     "metadata": {},
     "output_type": "execute_result"
    }
   ],
   "source": [
    "# Memisahkan data nama jalan dari kolom address\n",
    "rest_cafe_data['street_name'] = rest_cafe_data['address'].apply(lambda x: x.split(',')[0].strip())\n",
    "\n",
    "# Menampilkan hasil\n",
    "rest_cafe_data[['address', 'street_name']]"
   ]
  },
  {
   "cell_type": "markdown",
   "metadata": {},
   "source": [
    "**Kesimpulan Sementara**\n",
    "\n",
    "- kolom **`address`** dilakukan pemisahan alamat untuk memudahkan kolom baru dengan nama yang sesuai menjadi **`street_name`**."
   ]
  },
  {
   "cell_type": "markdown",
   "metadata": {},
   "source": [
    "**Membuat Grafik yang Menampilkan Sepuluh Nama Jalan Teratas Berdasarkan Jumlah Usaha**\n",
    "\n",
    "- Menampilkan sepuluh nama jalan teratas berdasarkan jumlah usaha (tempat makan)."
   ]
  },
  {
   "cell_type": "code",
   "execution_count": 35,
   "metadata": {},
   "outputs": [
    {
     "data": {
      "image/png": "[encoded data removed]",
      "text/plain": [
       "<Figure size 864x432 with 1 Axes>"
      ]
     },
     "metadata": {},
     "output_type": "display_data"
    }
   ],
   "source": [
    "# Menghitung jumlah usaha untuk setiap nama jalan\n",
    "top_street_names = rest_cafe_data['street_name'].value_counts().nlargest(10)\n",
    "\n",
    "# Membuat grafik bar untuk sepuluh nama jalan teratas\n",
    "plt.figure(figsize=(12, 6))\n",
    "sns.set(style=\"darkgrid\")\n",
    "sns.barplot(x=top_street_names.index, y=top_street_names.values, palette='coolwarm')\n",
    "plt.title('Sepuluh Nama Jalan Teratas Berdasarkan Jumlah Usaha di Los Angeles')\n",
    "plt.xlabel('Nama Jalan')\n",
    "plt.ylabel('Jumlah Usaha')\n",
    "plt.xticks(rotation=45, ha='right')\n",
    "plt.show()"
   ]
  },
  {
   "cell_type": "markdown",
   "metadata": {},
   "source": [
    "**Kesimpulan Sementara**\n",
    "\n",
    "- Dengan nama kolom **`street_name`** diambil dari 10 nama jalan teratas berdasarkan jumlah usaha Los Angeles. 3607 TROUSDALE PKW merupakan yang tertinggi sedangkan 100 WORLD WAY merupaka yang terendah."
   ]
  },
  {
   "cell_type": "markdown",
   "metadata": {},
   "source": [
    "**Menemukan Jumlah Jalan yang Hanya Memiliki Satu Usaha**\n",
    "\n",
    "- Menentukan jumlah jalan yang hanya memiliki satu Usaha (tempat makan)."
   ]
  },
  {
   "cell_type": "code",
   "execution_count": 37,
   "metadata": {},
   "outputs": [
    {
     "name": "stdout",
     "output_type": "stream",
     "text": [
      "Jumlah jalan yang hanya memiliki satu usaha: 7604\n"
     ]
    }
   ],
   "source": [
    "# Menghitung jumlah usaha untuk setiap nama jalan\n",
    "counts_per_streets = rest_cafe_data['street_name'].value_counts()\n",
    "\n",
    "# Menghitung jumlah jalan yang hanya memiliki satu usaha\n",
    "Count_of_streets_only_1business = (counts_per_streets == 1).sum()\n",
    "\n",
    "# Menampilkan hasil\n",
    "print(\"Jumlah jalan yang hanya memiliki satu usaha:\", Count_of_streets_only_1business)"
   ]
  },
  {
   "cell_type": "code",
   "execution_count": 39,
   "metadata": {},
   "outputs": [
    {
     "data": {
      "image/png": "[encoded data removed]",
      "text/plain": [
       "<Figure size 576x360 with 1 Axes>"
      ]
     },
     "metadata": {},
     "output_type": "display_data"
    }
   ],
   "source": [
    "# Menghitung jumlah usaha untuk setiap nama jalan\n",
    "counts_per_streets = rest_cafe_data['street_name'].value_counts()\n",
    "\n",
    "# Menghitung jumlah jalan yang hanya memiliki satu usaha\n",
    "Count_of_streets_only_1business = (counts_per_streets == 1).sum()\n",
    "\n",
    "# Membuat grafik batang\n",
    "plt.figure(figsize=(8, 5))\n",
    "sns.countplot(x=(counts_per_streets == 1), palette='coolwarm')\n",
    "plt.title('Jumlah Jalan yang Hanya Memiliki Satu Usaha di Los Angeles')\n",
    "plt.xlabel('Hanya Satu Usaha')\n",
    "plt.ylabel('Jumlah Jalan')\n",
    "plt.xticks([0, 1], ['Tidak', 'Ya'])\n",
    "plt.show()"
   ]
  },
  {
   "cell_type": "markdown",
   "metadata": {},
   "source": [
    "**Kesimpulan Sementara**\n",
    "\n",
    "- Bisa dipastikan bahwa lebih dari 7000 jumlah jalan mendaftar usaha mereka berdasarkan hanya 1 alamat. Registrasi alamat secara plural berada di bawah 1000."
   ]
  },
  {
   "cell_type": "markdown",
   "metadata": {},
   "source": [
    "**Bebebrapa Jalan yang Dihuni oleh Banyak Usaha**\n",
    "\n",
    "- Untuk jalan yang dihuni oleh banyak usaha (tempat makan), perhatikan distribusi jumlah kursinya. Tren apa yang bisa kita amati?"
   ]
  },
  {
   "cell_type": "code",
   "execution_count": 46,
   "metadata": {},
   "outputs": [
    {
     "data": {
      "image/png": "[encoded data removed]",
      "text/plain": [
       "<Figure size 864x432 with 1 Axes>"
      ]
     },
     "metadata": {},
     "output_type": "display_data"
    }
   ],
   "source": [
    "# Mengambil data jalan-jalan dengan lebih dari satu usaha\n",
    "streets_lot_of_business = counts_per_streets[counts_per_streets > 1].index\n",
    "\n",
    "# Memfilter data berdasarkan jalan-jalan dengan lebih dari satu usaha\n",
    "data_streets_more_1business = rest_cafe_data[rest_cafe_data['street_name'].isin(streets_lot_of_business)]\n",
    "\n",
    "# Membuat histogram distribusi jumlah kursi\n",
    "plt.figure(figsize=(12, 6))\n",
    "sns.histplot(data=data_streets_more_1business, x='number', bins=30, kde=True, color='tomato')\n",
    "plt.title('Distribusi Jumlah Kursi di Jalan dengan Banyak Usaha di Los Angeles')\n",
    "plt.xlabel('Jumlah Kursi')\n",
    "plt.ylabel('Frekuensi')\n",
    "plt.show()"
   ]
  },
  {
   "cell_type": "markdown",
   "metadata": {},
   "source": [
    "**Kesimpulan Sementara**\n",
    "\n",
    "- Distribusi frekuensi jumlah kuri di jalan dengan banyak usaha di Los Angeles cenderung miring ke kanan. Bisa dipastikan bahwa Meskipun mayoritas tempat makan memiliki kapasitas yang sedang, ada beberapa tempat makan di jalan-jalan tersebut yang memiliki kapasitas tempat duduk yang lebih besar. Ini dapat diindikasikan oleh ekor distribusi yang panjang ke arah nilai yang lebih tinggi."
   ]
  },
  {
   "cell_type": "markdown",
   "metadata": {},
   "source": [
    "## Kesimpulan\n",
    "\n",
    "- Hanya terdapat sedikit nilai yang hilang. Nilai hilang berada di kolom chain serta perubahan tipe data pada kolm chain menjadi boolean.\n",
    "- Ditemukan bahwa proporsi di kolom object_type, value Restaurant memiliki nilai yang paling tinggi.\n",
    "- Kolom chain merupakan benar atau tidaknya proporsi usaha berbasis warlaba dan non waralaba. Terindikasi bahwa 61.9% adalah Waralaba dan 38.1% merupakan Nonwaralaba.\n",
    "- Dari hasil agregasi kolom object_type terhadap chain, value Restaurant memiliki jumlah usaha yang berbasis waralaba tertinggi.\n",
    "- Total tempat tertinggi yaitu Restaurant, sementara terendah yaitu Bakery. Untuk total kursi tertinggi yaitu Restaurant, sementara terendah yaitu Bar.\n",
    "- Bisa dipastikan bahwa Bar yang memiliki rata-rata tinggi merupakan jumlah kursi yang dimiliki sangat sedikit untuk setiap tempat. Restaurant memiliki jumlah yang banyak dan selalu berbanding lurus dengan total tempat dan total kursi.\n",
    "- Bisa dipastikan bahwa Bar yang memiliki rata-rata tinggi merupakan jumlah kursi yang dimiliki sangat sedikit untuk setiap tempat. Restaurant memiliki jumlah yang banyak dan selalu berbanding lurus dengan total tempat dan total kursi.\n",
    "- Kolom address dilakukan pemisahan alamat untuk memudahkan kolom baru dengan nama yang sesuai menjadi street_name.\n",
    "- Dengan nama kolom street_name diambil dari 10 nama jalan teratas berdasarkan jumlah usaha Los Angeles. 3607 TROUSDALE PKW merupakan yang tertinggi sedangkan 100 WORLD WAY merupaka yang terendah.\n",
    "- Bisa dipastikan bahwa lebih dari 7000 jumlah jalan mendaftar usaha mereka berdasarkan hanya 1 alamat. Registrasi alamat secara plural berada di bawah 1000.\n",
    "- Distribusi frekuensi jumlah kuri di jalan dengan banyak usaha di Los Angeles cenderung miring ke kanan. Bisa dipastikan bahwa Meskipun mayoritas tempat makan memiliki kapasitas yang sedang, ada beberapa tempat makan di jalan-jalan tersebut yang memiliki kapasitas tempat duduk yang lebih besar. Ini dapat diindikasikan oleh ekor distribusi yang panjang ke arah nilai yang lebih tinggi.\n",
    "\n",
    "**Rangkuman Kesimpulan**\n",
    "\n",
    "- Los Angeles memiliki dominasi usaha jenis 'Restaurant' dan mayoritas usaha teridentifikasi sebagai waralaba.\n",
    "- Jumlah tempat dan kursi terbesar terdapat pada jenis usaha 'Restaurant', sementara 'Bar' menonjol dengan rata-rata jumlah kursi tinggi.\n",
    "- Adanya jalan-jalan dengan banyak usaha menunjukkan variasi kapasitas tempat duduk yang dapat dijadikan peluang investasi. Perlu memperhatikan tempat-tempat makan dengan kapasitas yang lebih besar.\n",
    "- Data alamat dapat dimanfaatkan lebih lanjut untuk analisis lokasi dan strategi bisnis yang lebih efektif.\n",
    "\n",
    "<span style=\"color:blue\">**Insight**</span>\n",
    "\n",
    "<font color=\"blue\">- Mengoptimalkan penggunaan data alamat dan mengeksplorasi lebih lanjut pola atau tren yang mungkin muncul dalam clustering bisnis di lokasi tertentu.</font>\n",
    "\n",
    "<font color=\"blue\">- Menjajaki potensi kerjasama dengan usaha berbasis waralaba, terutama dalam jenis usaha **`'Restaurant'`** yang mendominasi pasar.</font>\n",
    "\n",
    "<font color=\"blue\">- Melanjutkan pemantauan dan analisis terhadap jenis usaha **`'Bar'`** yang memiliki rata-rata jumlah kursi tinggi namun jumlah tempat yang lebih sedikit.</font>\n",
    "\n",
    "<font color=\"blue\">- Menggali lebih dalam pada jalan-jalan dengan banyak usaha yang memiliki kapasitas tempat duduk besar untuk menentukan potensi pertumbuhan atau investasi.</font>"
   ]
  },
  {
   "cell_type": "markdown",
   "metadata": {},
   "source": [
    "## Mempersiapkan presentasi\n",
    "\n",
    "   ### File untuk presentasi dapat didownload : https://drive.google.com/file/d/1uAAsHDn-81AS_5-eUA3FwUHB_-gwNAmI/view?usp=sharing"
   ]
  }
 ],
 "metadata": {
  "kernelspec": {
   "display_name": "Python 3 (ipykernel)",
   "language": "python",
   "name": "python3"
  },
  "language_info": {
   "codemirror_mode": {
    "name": "ipython",
    "version": 3
   },
   "file_extension": ".py",
   "mimetype": "text/x-python",
   "name": "python",
   "nbconvert_exporter": "python",
   "pygments_lexer": "ipython3",
   "version": "3.9.19"
  },
  "toc": {
   "base_numbering": 1,
   "nav_menu": {},
   "number_sections": true,
   "sideBar": true,
   "skip_h1_title": true,
   "title_cell": "Table of Contents",
   "title_sidebar": "Contents",
   "toc_cell": false,
   "toc_position": {},
   "toc_section_display": true,
   "toc_window_display": false
  }
 },
 "nbformat": 4,
 "nbformat_minor": 2
}
